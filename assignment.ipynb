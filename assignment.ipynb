{
 "cells": [
  {
   "cell_type": "code",
   "execution_count": 7,
   "id": "50b1d007",
   "metadata": {},
   "outputs": [
    {
     "name": "stdout",
     "output_type": "stream",
     "text": [
      "el \n"
     ]
    }
   ],
   "source": [
    "x=\"hello world!\"\n",
    "print(x[1:7:2])"
   ]
  },
  {
   "cell_type": "code",
   "execution_count": 3,
   "id": "69f95705",
   "metadata": {},
   "outputs": [
    {
     "name": "stdout",
     "output_type": "stream",
     "text": [
      "bandra mumbai\n"
     ]
    }
   ],
   "source": [
    "input_string=\"bmaunmdbraai\"\n",
    "place=input_string[0:11:2]\n",
    "city=input_string[1:12:2]\n",
    "print(place,city)"
   ]
  },
  {
   "cell_type": "code",
   "execution_count": 3,
   "id": "34941de4",
   "metadata": {},
   "outputs": [
    {
     "name": "stdout",
     "output_type": "stream",
     "text": [
      "30\n",
      "CONVERT TO ALL CAPITAL LETTERS\n"
     ]
    }
   ],
   "source": [
    "str_quiz=\"convert to all capital letters\"\n",
    "str_len=len(str_quiz)\n",
    "str_quiz=str_quiz.upper()\n",
    "print(str_len)\n",
    "print(str_quiz)"
   ]
  },
  {
   "cell_type": "code",
   "execution_count": 12,
   "id": "67c1a0d5",
   "metadata": {},
   "outputs": [
    {
     "name": "stdout",
     "output_type": "stream",
     "text": [
      "7\n",
      "208\n",
      "105\n",
      "67\n"
     ]
    }
   ],
   "source": [
    "snowball=\"I made myself a snowball\\nAs perfect as could be.\\nI though I'd keep it as a pet\\nAnd let it sleep with me.\\nI made it some pajamas\\nAnd a pillow for its head.\\nThen last night it ran way,\\nBut first it wet the bed.\"\n",
    "it_count=snowball.count(\"it\")\n",
    "len_poem=len(snowball)\n",
    "I_last=snowball.rfind('I')\n",
    "it_first=snowball.find(\"it\")\n",
    "print(it_count)\n",
    "print(len_poem)\n",
    "print(I_last)\n",
    "print(it_first)"
   ]
  },
  {
   "cell_type": "code",
   "execution_count": 32,
   "id": "b16ad9b7",
   "metadata": {},
   "outputs": [
    {
     "name": "stdout",
     "output_type": "stream",
     "text": [
      "start\n",
      "Not Yet.Still searching....\n",
      "10313\n",
      "Not Yet.Still searching....\n",
      "1415\n",
      "Not Yet.Still searching....\n",
      "afvav\n",
      "Not Yet.Still searching....\n",
      "vbagaga\n",
      "Not Yet.Still searching....\n",
      "mid\n",
      "Not Yet.Still searching....\n",
      "3.415\n",
      "Not Yet.Still searching....\n",
      "{'A': 12121}\n",
      "Not Yet.Still searching....\n",
      "{'xava': 11}\n",
      "Not Yet.Still searching....\n",
      "1.21\n",
      "Not Yet.Still searching....\n",
      "end\n",
      "Found them!Stop the code!\n"
     ]
    }
   ],
   "source": [
    "web_list=[\"start\",10313,1415,\"afvav\",\"vbagaga\",\"mid\",3.415,{\"A\":12121},{\"xava\":11},1.21,\"end\"]\n",
    "for i in web_list:\n",
    "    print(i)\n",
    "    if i==\"end\":\n",
    "        break\n",
    "    print(\"Not Yet.Still searching....\")\n",
    "print(\"Found them!Stop the code!\")\n"
   ]
  },
  {
   "cell_type": "code",
   "execution_count": 35,
   "id": "1c0f7ab4",
   "metadata": {},
   "outputs": [
    {
     "name": "stdout",
     "output_type": "stream",
     "text": [
      "10\n",
      "8\n",
      "24\n",
      "74\n",
      "50\n",
      "86\n"
     ]
    }
   ],
   "source": [
    "list_ages=[10,11,19,7,8,24,91,74,25,53,41,50,63,86]\n",
    "for num in list_ages:\n",
    "    if num%2==0:   # print even numbers\n",
    "        print(num)\n"
   ]
  },
  {
   "cell_type": "code",
   "execution_count": 62,
   "id": "7012cd41",
   "metadata": {},
   "outputs": [
    {
     "name": "stdout",
     "output_type": "stream",
     "text": [
      "10\n",
      "8\n",
      "24\n",
      "74\n",
      "50\n",
      "86\n"
     ]
    }
   ],
   "source": [
    "list_ages=[10,11,19,7,8,24,91,74,25,53,41,50,63,86]\n",
    "for num in list_ages:\n",
    "    if num%2==0:    # print odd numbers\n",
    "        print(num)\n",
    "        continue\n"
   ]
  },
  {
   "cell_type": "code",
   "execution_count": 56,
   "id": "7874ca00",
   "metadata": {},
   "outputs": [
    {
     "name": "stdout",
     "output_type": "stream",
     "text": [
      "11\n",
      "19\n",
      "7\n",
      "91\n",
      "25\n",
      "53\n",
      "41\n",
      "63\n"
     ]
    }
   ],
   "source": [
    "list_ages=[10,11,19,7,8,24,91,74,25,53,41,50,63,86]\n",
    "for num in list_ages:\n",
    "    if num%2==0:    # print odd numbers\n",
    "        continue\n",
    "    print(num)"
   ]
  },
  {
   "cell_type": "code",
   "execution_count": null,
   "id": "d924fe47",
   "metadata": {},
   "outputs": [],
   "source": []
  }
 ],
 "metadata": {
  "kernelspec": {
   "display_name": "Python 3",
   "language": "python",
   "name": "python3"
  },
  "language_info": {
   "codemirror_mode": {
    "name": "ipython",
    "version": 3
   },
   "file_extension": ".py",
   "mimetype": "text/x-python",
   "name": "python",
   "nbconvert_exporter": "python",
   "pygments_lexer": "ipython3",
   "version": "3.8.8"
  }
 },
 "nbformat": 4,
 "nbformat_minor": 5
}
