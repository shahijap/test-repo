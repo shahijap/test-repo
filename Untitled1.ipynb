{
 "cells": [
  {
   "cell_type": "code",
   "execution_count": 1,
   "id": "e844cbda",
   "metadata": {},
   "outputs": [
    {
     "data": {
      "text/plain": [
       "'namenamename'"
      ]
     },
     "execution_count": 1,
     "metadata": {},
     "output_type": "execute_result"
    }
   ],
   "source": [
    "3*'name'"
   ]
  },
  {
   "cell_type": "code",
   "execution_count": 7,
   "id": "8778a01b",
   "metadata": {},
   "outputs": [
    {
     "name": "stdout",
     "output_type": "stream",
     "text": [
      "!\n"
     ]
    }
   ],
   "source": [
    "x=\"hello world!\"\n",
    "print(x[11])"
   ]
  },
  {
   "cell_type": "code",
   "execution_count": 12,
   "id": "642ee8f4",
   "metadata": {},
   "outputs": [
    {
     "name": "stdout",
     "output_type": "stream",
     "text": [
      "True\n"
     ]
    }
   ],
   "source": [
    "first_num=10\n",
    "second_num=50\n",
    "third_num=14\n",
    "bool_exp=not((first_num<second_num)and(second_num<third_num)or(first_num>second_num))\n",
    "print(bool_exp)"
   ]
  },
  {
   "cell_type": "code",
   "execution_count": null,
   "id": "17d26d48",
   "metadata": {},
   "outputs": [],
   "source": []
  },
  {
   "cell_type": "code",
   "execution_count": null,
   "id": "cdfdf4e5",
   "metadata": {},
   "outputs": [],
   "source": []
  }
 ],
 "metadata": {
  "kernelspec": {
   "display_name": "Python 3",
   "language": "python",
   "name": "python3"
  },
  "language_info": {
   "codemirror_mode": {
    "name": "ipython",
    "version": 3
   },
   "file_extension": ".py",
   "mimetype": "text/x-python",
   "name": "python",
   "nbconvert_exporter": "python",
   "pygments_lexer": "ipython3",
   "version": "3.8.8"
  }
 },
 "nbformat": 4,
 "nbformat_minor": 5
}
